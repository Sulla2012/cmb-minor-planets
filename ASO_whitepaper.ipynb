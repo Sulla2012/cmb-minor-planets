{
 "cells": [
  {
   "cell_type": "code",
   "execution_count": 6,
   "id": "b6a20a9f-2978-44c8-a346-acd5aa86d46c",
   "metadata": {},
   "outputs": [],
   "source": [
    "import numpy as np\n",
    "import dill as pk\n",
    "\n",
    "import os\n",
    "\n",
    "from astroquery.mpc import MPC\n",
    "\n",
    "from astroquery.jplhorizons import Horizons\n",
    "import time\n",
    "from astropy.time import Time\n",
    "\n",
    "import requests\n"
   ]
  },
  {
   "cell_type": "code",
   "execution_count": 36,
   "id": "e6637c26-64cc-455c-9611-7ff9c111b091",
   "metadata": {},
   "outputs": [],
   "source": [
    "def get_radius(name, names, radii):\n",
    "    for i, cur_name in enumerate(names):\n",
    "        if name in cur_name:\n",
    "            return radii[i]\n",
    "    print(\"No match found\")\n",
    "    return 0"
   ]
  },
  {
   "cell_type": "code",
   "execution_count": 2,
   "id": "f69dfe37-8e5c-4592-850d-605c3b163d05",
   "metadata": {},
   "outputs": [],
   "source": [
    "with open('./pks/ast_stats.pk', 'rb') as f:\n",
    "    ast_dir = pk.load(f)"
   ]
  },
  {
   "cell_type": "code",
   "execution_count": 8,
   "id": "4bdf2e62-aae9-497b-afd6-e380b63bd38d",
   "metadata": {},
   "outputs": [],
   "source": [
    "if not os.path.exists(\"./pks/ast_masses.pk\"):\n",
    "    r = requests.get(\"https://ssd-api.jpl.nasa.gov/sbdb_query.api?fields=full_name,diameter\" )\n",
    "    data = r.json()[\"data\"]\n",
    "    with open(\"./pks/ast_masses.pk\", \"wb\") as f:\n",
    "        pk.dump(data, f)\n",
    "else:\n",
    "    with open(\"./pks/ast_masses.pk\", \"rb\") as f:\n",
    "        data = pk.load(f)\n"
   ]
  },
  {
   "cell_type": "code",
   "execution_count": 31,
   "id": "bfcda6cb-4f2a-4440-9e32-b5b6be08cef4",
   "metadata": {},
   "outputs": [],
   "source": [
    "names = []\n",
    "radii = []\n",
    "\n",
    "for i in range(len(data)):\n",
    "    if data[i][1] is None: continue\n",
    "    if float(data[i][1]) < 50: continue\n",
    "    names.append(str(data[i][0]))\n",
    "    radii.append(float(data[i][1]))"
   ]
  },
  {
   "cell_type": "code",
   "execution_count": 32,
   "id": "68ff8232-ec41-400f-baf3-5195c0319fb5",
   "metadata": {},
   "outputs": [],
   "source": [
    "names = np.array(names)\n",
    "radii = np.array(radii)"
   ]
  },
  {
   "cell_type": "markdown",
   "id": "26c2924b-e897-47aa-a160-b7d8129d7a0d",
   "metadata": {},
   "source": [
    "# ASO Asteroids"
   ]
  },
  {
   "cell_type": "code",
   "execution_count": 43,
   "id": "7859237f-8ef6-4ce2-a9df-3557cb4d1330",
   "metadata": {},
   "outputs": [],
   "source": [
    "var_090 = np.empty(len(ast_dir.keys()))\n",
    "var_150 = np.empty(len(ast_dir.keys()))\n",
    "var_220 = np.empty(len(ast_dir.keys()))\n",
    "\n",
    "for i, ast in enumerate(ast_dir.keys()):\n",
    "    var_090[i] = ast_dir[ast][\"flux_090\"][1]\n",
    "    var_150[i] = ast_dir[ast][\"flux_150\"][1]\n",
    "    var_220[i] = ast_dir[ast][\"flux_220\"][1]"
   ]
  },
  {
   "cell_type": "code",
   "execution_count": 44,
   "id": "3ef1fe19-12d7-4678-a0a1-bab2cb84b2a6",
   "metadata": {},
   "outputs": [],
   "source": [
    "act_depth_090 = np.median(var_090)\n",
    "act_depth_150 = np.median(var_150)\n",
    "act_depth_220 = np.median(var_220)\n",
    "\n",
    "#From here: https://simonsobs.atlassian.net/wiki/spaces/ANA/pages/872153096/ASO+Point+Source+Sensitivity+Forecasts\n",
    "aso_depth_090 = 0.41\n",
    "aso_depth_150 = 0.54\n",
    "aso_depth_220 = 1.38\n",
    "\n",
    "weight = 0.9 #This factor is the amount of time asteroids spend in the SO footprint. Assuming even sky coverage that includes\n",
    "           #the whole ecliptic, this is 1, i.e. on average a asteroid will be observed as often as any random fixed point on \n",
    "           #the sky. If the asteroid spends a significant amount of time out of the footprint, then this weight should be \n",
    "           #correspondingly lower. I've conservatively picked 0.9.\n",
    "\n",
    "N_aso_090 = (act_depth_090/aso_depth_090)**(1.25)*weight*170\n",
    "N_aso_150 = (act_depth_150/aso_depth_150)**(1.25)*weight*170\n",
    "N_aso_220 = (act_depth_220/aso_depth_220)**(1.25)*weight*170\n",
    "\n"
   ]
  },
  {
   "cell_type": "code",
   "execution_count": 45,
   "id": "75a925dc-bed3-4b90-9378-41557b9e05b9",
   "metadata": {},
   "outputs": [
    {
     "name": "stdout",
     "output_type": "stream",
     "text": [
      "19430.186542258845 18301.924104047917 23267.78306441227\n"
     ]
    }
   ],
   "source": [
    "print(N_aso_090, N_aso_150, N_aso_220) #Number of detections"
   ]
  },
  {
   "cell_type": "code",
   "execution_count": 46,
   "id": "142942e1-df00-4178-8a13-b72458591b1e",
   "metadata": {},
   "outputs": [
    {
     "data": {
      "text/plain": [
       "np.float64(107.6583770826348)"
      ]
     },
     "execution_count": 46,
     "metadata": {},
     "output_type": "execute_result"
    }
   ],
   "source": [
    "(act_depth_150/aso_depth_150)**(1.25)*weight #Factor increase"
   ]
  },
  {
   "cell_type": "markdown",
   "id": "231575c2-4d12-4c78-b0cd-772e492ed9bf",
   "metadata": {},
   "source": [
    "# ASO TNOs"
   ]
  },
  {
   "cell_type": "code",
   "execution_count": 68,
   "id": "559ed5eb-5b98-4d8c-af2e-187b1be0f3ab",
   "metadata": {},
   "outputs": [
    {
     "name": "stdout",
     "output_type": "stream",
     "text": [
      "[3.2565619]\n"
     ]
    }
   ],
   "source": [
    "name = 'Pallas'\n",
    "r_ast = get_radius(name, names, radii)\n",
    "\n",
    "d_ast = 2.36\n",
    "d_sast = 2.36\n",
    "\n",
    "\n",
    "\n",
    "t = Time(time.time(), format='unix', scale='utc')\n",
    "\n",
    "#tno_name = \"Haumea (primary body)\"\n",
    "#tno_name = \"Eris (primary body)\"\n",
    "#tno_name = \"Makemake\"\n",
    "#tno_name = \"Pluto Barycenter\"\n",
    "#tno_name = \"Gonggong\"\n",
    "#tno_name = \"Quaoar (system barycenter)\"\n",
    "#tno_name = \"Sedna\"\n",
    "tno_name = \"Orcus (system barycenter)\"\n",
    "#tno_name = \"90482   \"\n",
    "\n",
    "obj = Horizons(id=tno_name, location='568', epochs=t.jd)\n",
    "\n",
    "\n",
    "d_tno = obj.ephemerides()[\"r\"].value\n",
    "d_stno = d_tno\n",
    "radius = 450\n",
    "\n",
    "geo_factor = (d_tno/d_ast)**(-2)*(d_stno/d_sast)**(-1/2) * (radius/r_ast)**2 #Factor to scale asteroid to TNO size, distance, etc\n",
    "#noise_factor = np.sqrt((act_depth_090/aso_depth_090)**2+(act_depth_150/aso_depth_150)**2+(act_depth_220/aso_depth_220)**2)\n",
    "noise_factor = act_depth_150/aso_depth_150\n",
    "print(np.array(ast_dir[name][\"tot_sn\"])*geo_factor*noise_factor)"
   ]
  },
  {
   "cell_type": "code",
   "execution_count": null,
   "id": "0a771268-1f95-4fef-98a5-aa17b0ebe767",
   "metadata": {},
   "outputs": [],
   "source": []
  }
 ],
 "metadata": {
  "kernelspec": {
   "display_name": "general",
   "language": "python",
   "name": "general"
  },
  "language_info": {
   "codemirror_mode": {
    "name": "ipython",
    "version": 3
   },
   "file_extension": ".py",
   "mimetype": "text/x-python",
   "name": "python",
   "nbconvert_exporter": "python",
   "pygments_lexer": "ipython3",
   "version": "3.12.0"
  }
 },
 "nbformat": 4,
 "nbformat_minor": 5
}
