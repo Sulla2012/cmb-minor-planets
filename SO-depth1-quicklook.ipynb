{
 "cells": [
  {
   "cell_type": "code",
   "execution_count": 2,
   "metadata": {},
   "outputs": [],
   "source": [
    "import numpy as np\n",
    "\n",
    "from pixell import utils, enmap, bunch, reproject, colors, coordinates"
   ]
  },
  {
   "cell_type": "code",
   "execution_count": 3,
   "metadata": {},
   "outputs": [
    {
     "data": {
      "text/plain": [
       "['/',\n",
       " 's',\n",
       " 'c',\n",
       " 'r',\n",
       " 'a',\n",
       " 't',\n",
       " 'c',\n",
       " 'h',\n",
       " '/',\n",
       " 'r',\n",
       " '/',\n",
       " 'r',\n",
       " 'b',\n",
       " 'o',\n",
       " 'n',\n",
       " 'd',\n",
       " '/',\n",
       " 'j',\n",
       " 'o',\n",
       " 'r',\n",
       " 'l',\n",
       " 'o',\n",
       " '/',\n",
       " 'S',\n",
       " 'O',\n",
       " '/',\n",
       " '1',\n",
       " '6',\n",
       " '9',\n",
       " '6',\n",
       " '1',\n",
       " '/']"
      ]
     },
     "execution_count": 3,
     "metadata": {},
     "output_type": "execute_result"
    }
   ],
   "source": [
    "path = \"/scratch/r/rbond/jorlo/SO/16961/\"\n",
    "sum([sorted(utils.glob(ifile)) for ifile in path],[])"
   ]
  },
  {
   "cell_type": "code",
   "execution_count": null,
   "metadata": {},
   "outputs": [],
   "source": []
  }
 ],
 "metadata": {
  "kernelspec": {
   "display_name": "general",
   "language": "python",
   "name": "general"
  },
  "language_info": {
   "codemirror_mode": {
    "name": "ipython",
    "version": 3
   },
   "file_extension": ".py",
   "mimetype": "text/x-python",
   "name": "python",
   "nbconvert_exporter": "python",
   "pygments_lexer": "ipython3",
   "version": "3.9.8"
  }
 },
 "nbformat": 4,
 "nbformat_minor": 4
}
