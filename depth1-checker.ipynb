{
 "cells": [
  {
   "cell_type": "code",
   "execution_count": 27,
   "metadata": {},
   "outputs": [
    {
     "name": "stdout",
     "output_type": "stream",
     "text": [
      "The autoreload extension is already loaded. To reload it, use:\n",
      "  %reload_ext autoreload\n"
     ]
    }
   ],
   "source": [
    "import numpy as np\n",
    "\n",
    "from scipy import interpolate\n",
    "\n",
    "from utils import check_loc_ast, in_box, get_orbits, calc_obs_ctime, make_box\n",
    "\n",
    "from pixell import utils, bunch, enmap\n",
    "\n",
    "%load_ext autoreload\n",
    "%autoreload 2"
   ]
  },
  {
   "cell_type": "code",
   "execution_count": 2,
   "metadata": {},
   "outputs": [],
   "source": [
    "ifile = '/home/r/rbond/sigurdkn/project/actpol/maps/depth1/release/15385/depth1_1538528823_pa4_f150_map.fits'\n",
    "\n",
    "astinfo = np.load('/gpfs/fs0/project/r/rbond/sigurdkn/actpol/ephemerides/objects/Vesta.npy').view(np.recarray)"
   ]
  },
  {
   "cell_type": "code",
   "execution_count": 3,
   "metadata": {},
   "outputs": [],
   "source": [
    "orbit = interpolate.interp1d(astinfo.ctime, [utils.unwind(astinfo.ra*utils.degree), astinfo.dec*utils.degree], kind=3)"
   ]
  },
  {
   "cell_type": "code",
   "execution_count": 4,
   "metadata": {},
   "outputs": [],
   "source": [
    "infofile = utils.replace(ifile, \"map.fits\", \"info.hdf\")\n",
    "tfile    = utils.replace(ifile, \"map.fits\", \"time.fits\")\n",
    "varfile    = utils.replace(ifile, \"map.fits\", \"ivar.fits\")\n",
    "rhofile    = utils.replace(ifile, \"map.fits\", \"rho.fits\")\n",
    "kfile    = utils.replace(ifile, \"map.fits\", \"kappa.fits\")"
   ]
  },
  {
   "cell_type": "code",
   "execution_count": 30,
   "metadata": {},
   "outputs": [],
   "source": [
    "info = bunch.read(infofile)\n",
    "\n",
    "# Get the asteroid coordinates\n",
    "ctime0   = np.mean(info.period)\n",
    "adata0   = orbit(ctime0)\n",
    "ast_pos0 = utils.rewind(adata0[1::-1])\n",
    "message  = \"%.0f  %8.3f %8.3f  %8.3f %8.3f %8.3f %8.3f\" % (info.t, ast_pos0[1]/utils.degree, ast_pos0[0]/utils.degree, info.box[0,1]/utils.degree, info.box[1,1]/utils.degree, info.box[0,0]/utils.degree, info.box[1,0]/utils.degree)\n",
    "\n",
    "full_box  = make_box(ast_pos0, 10*utils.arcmin)\n",
    "# Read it and check if we have enough hits in the area we want to use\n",
    "try:\n",
    "        tmap = enmap.read_map(tfile, box=full_box)\n",
    "        tmap[tmap!=0] += info.t\n",
    "except (TypeError, FileNotFoundError):\n",
    "        print(\"Error reading %s. Skipping\" % ifile)\n",
    "# Break out early if nothing is hit\n",
    "\n",
    "# Figure out what time the asteroid was actually observed\n",
    "ctime, err = calc_obs_ctime(orbit, tmap, ctime0)\n",
    "\n",
    "# Now that we have the proper time, get the asteroids actual position\n",
    "adata    = orbit(ctime)\n",
    "ast_pos  = utils.rewind(adata[1::-1])                "
   ]
  },
  {
   "cell_type": "code",
   "execution_count": 31,
   "metadata": {},
   "outputs": [
    {
     "data": {
      "text/plain": [
       "array([[-0.44839922],\n",
       "       [-1.48186142]])"
      ]
     },
     "execution_count": 31,
     "metadata": {},
     "output_type": "execute_result"
    }
   ],
   "source": [
    "ast_pos"
   ]
  },
  {
   "cell_type": "code",
   "execution_count": 37,
   "metadata": {},
   "outputs": [
    {
     "data": {
      "text/plain": [
       "array([[ 0.09880967],\n",
       "       [-4.28265618]])"
      ]
     },
     "execution_count": 37,
     "metadata": {},
     "output_type": "execute_result"
    }
   ],
   "source": [
    "(ast_pos-np.reshape(ast_pos0, (2,1)))/utils.arcmin"
   ]
  },
  {
   "cell_type": "code",
   "execution_count": 6,
   "metadata": {},
   "outputs": [
    {
     "data": {
      "text/plain": [
       "True"
      ]
     },
     "execution_count": 6,
     "metadata": {},
     "output_type": "execute_result"
    }
   ],
   "source": [
    "in_box(info.box, ast_pos0)"
   ]
  },
  {
   "cell_type": "code",
   "execution_count": 39,
   "metadata": {},
   "outputs": [
    {
     "data": {
      "text/plain": [
       "array([1.53853005e+09])"
      ]
     },
     "execution_count": 39,
     "metadata": {},
     "output_type": "execute_result"
    }
   ],
   "source": [
    "ctime"
   ]
  },
  {
   "cell_type": "code",
   "execution_count": 80,
   "metadata": {},
   "outputs": [
    {
     "data": {
      "text/plain": [
       "True"
      ]
     },
     "execution_count": 80,
     "metadata": {},
     "output_type": "execute_result"
    }
   ],
   "source": [
    "check_loc_ast(np.array([ast_pos[0],ast_pos[0]]), np.array([ast_pos[1],ast_pos[1]]), np.ones(2)*ctime,\n",
    "              '/gpfs/fs0/project/r/rbond/sigurdkn/actpol/ephemerides/objects/', max_idx=5)"
   ]
  },
  {
   "cell_type": "code",
   "execution_count": 46,
   "metadata": {},
   "outputs": [],
   "source": [
    "test = get_orbits('/gpfs/fs0/project/r/rbond/sigurdkn/actpol/ephemerides/objects/', max_idx=5)"
   ]
  },
  {
   "cell_type": "code",
   "execution_count": 48,
   "metadata": {},
   "outputs": [
    {
     "data": {
      "text/plain": [
       "array([[-0.44839922],\n",
       "       [-1.48186142]])"
      ]
     },
     "execution_count": 48,
     "metadata": {},
     "output_type": "execute_result"
    }
   ],
   "source": [
    "utils.rewind(test[3](ctime)[1::-1])"
   ]
  },
  {
   "cell_type": "code",
   "execution_count": 62,
   "metadata": {},
   "outputs": [
    {
     "name": "stdout",
     "output_type": "stream",
     "text": [
      "[[[ 0.11874221  1.69420721]\n",
      "  [-0.05004571  2.82333888]\n",
      "  [ 0.03207277 -2.90303034]\n",
      "  [-0.44839922 -1.48186142]\n",
      "  [ 0.08230682  1.06739043]\n",
      "  [ 0.03478177  2.88482787]]]\n"
     ]
    }
   ],
   "source": [
    "ast_locs = np.zeros((1,len(test), 2)) #an individual interp returns [ra, dec] so last dim is 2 \n",
    "for i in range(1):\n",
    "    for j, orbit in enumerate(test):\n",
    "        ast_locs[i][j] = np.reshape(utils.rewind(orbit(ctime)[1::-1]), ast_locs[i][j].shape)\n",
    "\n",
    "print(ast_locs)\n",
    "\n"
   ]
  },
  {
   "cell_type": "code",
   "execution_count": 45,
   "metadata": {},
   "outputs": [
    {
     "data": {
      "text/plain": [
       "array([[-0.44839922],\n",
       "       [-1.48186142]])"
      ]
     },
     "execution_count": 45,
     "metadata": {},
     "output_type": "execute_result"
    }
   ],
   "source": [
    "utils.rewind(orbit(ctime)[1::-1])"
   ]
  },
  {
   "cell_type": "code",
   "execution_count": 68,
   "metadata": {},
   "outputs": [
    {
     "data": {
      "text/plain": [
       "array([[0.],\n",
       "       [0.]])"
      ]
     },
     "execution_count": 68,
     "metadata": {},
     "output_type": "execute_result"
    }
   ],
   "source": [
    "ast_pos - np.reshape(ast_locs[0][3], ast_pos.shape)"
   ]
  },
  {
   "cell_type": "code",
   "execution_count": 67,
   "metadata": {},
   "outputs": [
    {
     "data": {
      "text/plain": [
       "(2, 1)"
      ]
     },
     "execution_count": 67,
     "metadata": {},
     "output_type": "execute_result"
    }
   ],
   "source": [
    "ast_pos.shape"
   ]
  },
  {
   "cell_type": "code",
   "execution_count": null,
   "metadata": {},
   "outputs": [],
   "source": []
  }
 ],
 "metadata": {
  "kernelspec": {
   "display_name": "actmadcows",
   "language": "python",
   "name": "actmadcows"
  },
  "language_info": {
   "codemirror_mode": {
    "name": "ipython",
    "version": 3
   },
   "file_extension": ".py",
   "mimetype": "text/x-python",
   "name": "python",
   "nbconvert_exporter": "python",
   "pygments_lexer": "ipython3",
   "version": "3.8.5"
  }
 },
 "nbformat": 4,
 "nbformat_minor": 4
}
